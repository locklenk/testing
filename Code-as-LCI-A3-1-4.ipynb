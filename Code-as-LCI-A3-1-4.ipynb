{
 "cells": [
  {
   "cell_type": "markdown",
   "metadata": {},
   "source": [
    "# WHAT IS PYTHON?\n",
    "\n",
    "Python is a **general-purpose programming language**. It is known and used for its simplicity and ability to work across different platforms and systems. It is also accessible for people with little programming experience. There are currently two versions of Python, with Python 2 stopping maintenance in 2020. Python 3 is the preferred version of the language and is under active development. \n",
    "\n",
    "> **Fun Fact**: Python was listed as one of the Top 10 programming languages to know in 2018!\n",
    "\n",
    "But first, **what is a programming language**? Programming languages are a way of giving computers instructions and commands to carry out. These commands are interpreted into a code understood by a machine."
   ]
  },
  {
   "cell_type": "markdown",
   "metadata": {},
   "source": [
    "## The Basic Principles of Python\n",
    "\n",
    "In programming, values can be saved to be used later in the program. These are stored under **variables**. You can store values in variables under a = sign. The variable becomes a placeholder for the value. For example, you can store the value 10 inside a variable called ‘hello’ by entering hello = 10.\n",
    "\n",
    "> **Note**: A variable is merely a reference to the value stored. The variable is not the value!"
   ]
  },
  {
   "cell_type": "markdown",
   "metadata": {},
   "source": [
    "## Variables\n",
    "\n",
    "What can be used as a variable? Any letter, an underscore, and all numbers (except you cannot start with a number). It is suggested to use lowercase words separated by underscores as this makes your variable clear and direct. \n",
    "\n",
    "Try to complete the code below by replacing the blank spaces with variables."
   ]
  },
  {
   "cell_type": "code",
   "execution_count": null,
   "metadata": {},
   "outputs": [],
   "source": [
    "_____ = 100\n",
    "_____ = 25\n",
    "kilomperhr = _____ / _____\n",
    "print(\"The average speed of the car was\", kilomperhr, \"kilometres per hour.\")"
   ]
  },
  {
   "cell_type": "markdown",
   "metadata": {},
   "source": [
    "## Print Function\n",
    "\n",
    "The **print function** is built into Python. It performs exactly what its name suggests! When using this function, we place brackets next to the word print and use quotation marks to type a string inside the brackets. \n",
    "\n",
    "This makes it clear that we are using the print function rather than naming a variable print. It is also important to use quotation marks within the brackets as this is what will be printed out. An example of a print function can be seen below."
   ]
  },
  {
   "cell_type": "code",
   "execution_count": null,
   "metadata": {},
   "outputs": [],
   "source": [
    "print(\"Hello, how are you?\")"
   ]
  },
  {
   "cell_type": "markdown",
   "metadata": {},
   "source": [
    "## Data Types\n",
    "\n",
    "All data in Python has a **value**, which can be categorised into a **type**. The type of value decides the operations that can be performed with the value. A common data type is the **numeric data**. There are four numeric data in Python but we will only be learning about **integers and floats**. To determine the **type** of data, we use the type( ) function.\n",
    "\n",
    " - **Integers** are whole numbers without any decimal points.\n",
    " - **Floats** represent real numbers but with decimal points. These numbers are divided into fractional parts.\n",
    " \n",
    "Run the codes below and try to determine which is an integer and float."
   ]
  },
  {
   "cell_type": "code",
   "execution_count": null,
   "metadata": {},
   "outputs": [],
   "source": [
    "variable = 10\n",
    "type(variable)"
   ]
  },
  {
   "cell_type": "code",
   "execution_count": null,
   "metadata": {},
   "outputs": [],
   "source": [
    "variable = 10/2\n",
    "type(variable)"
   ]
  },
  {
   "cell_type": "markdown",
   "metadata": {},
   "source": [
    "## Lists \n",
    "\n",
    "This is a collection of items that can be used to store a list of values. They are enclosed in [ ], with each item being separated by a comma. Lists can be changed. Below are some examples of lists. Try to create your own list to replace the empty yourlist = [ ]."
   ]
  },
  {
   "cell_type": "code",
   "execution_count": null,
   "metadata": {},
   "outputs": [],
   "source": [
    "movies = ['action, romance, comedy, horror, thriller, foreign']"
   ]
  },
  {
   "cell_type": "code",
   "execution_count": null,
   "metadata": {},
   "outputs": [],
   "source": [
    "fruit = [\"banana\", \"strawberry\", \"grapes\", \"apple\", \"pear\"]"
   ]
  },
  {
   "cell_type": "code",
   "execution_count": null,
   "metadata": {},
   "outputs": [],
   "source": [
    "primarycolours = ['red', 'blue', 'yellow']"
   ]
  },
  {
   "cell_type": "code",
   "execution_count": null,
   "metadata": {},
   "outputs": [],
   "source": [
    "yourlist = [.....]"
   ]
  },
  {
   "cell_type": "markdown",
   "metadata": {},
   "source": [
    "We will be introducing you to a few ways that you can use lists in coding.\n",
    "\n",
    "### List Insert\n",
    "The syntax for inserting a list is list.insert(x, y). In this case, the element y will be added in the placed before x. Look at the example below and try to figure out what the new list will look like before running the code yourself to confirm the answer."
   ]
  },
  {
   "cell_type": "code",
   "execution_count": null,
   "metadata": {},
   "outputs": [],
   "source": [
    "genres = [\"action\", \"comedy\", \"romance\", \"thrillers\", \"foreign\"]\n",
    "genres.insert(2, \"documentary\")\n",
    "print(genres)"
   ]
  },
  {
   "cell_type": "markdown",
   "metadata": {},
   "source": [
    "### List Remove\n",
    "The syntax for removing a list is list.remove(x). You replace x with an element of the list that you would like to remove."
   ]
  },
  {
   "cell_type": "code",
   "execution_count": null,
   "metadata": {},
   "outputs": [],
   "source": [
    "fruits = [\"strawberry\", \"banana\", \"apple\", \"kiwi\"]\n",
    "fruits.remove(\"banana\")\n",
    "print(fruits)"
   ]
  },
  {
   "cell_type": "markdown",
   "metadata": {},
   "source": [
    "### List Length\n",
    "To find out the length of a list, we use the syntax leng( ). Fill out the blank space in the code below and use the appropriate syntax to find out the length of the list."
   ]
  },
  {
   "cell_type": "code",
   "execution_count": null,
   "metadata": {},
   "outputs": [],
   "source": [
    "sports = [\"hockey\", \"soccer\", \"swimming\", \"netball\"]\n",
    "len(sports)"
   ]
  },
  {
   "cell_type": "markdown",
   "metadata": {},
   "source": [
    "### List Sorting \n",
    "You can sort a list with the sorted(list) function. This takes a list and changes the elements in the list into a sorted order. The elements remain the same."
   ]
  },
  {
   "cell_type": "code",
   "execution_count": null,
   "metadata": {},
   "outputs": [],
   "source": [
    "sports = [\"hockey\", \"soccer\", \"swimming\", \"netball\"]\n",
    "sports.sort()\n",
    "print(sports)"
   ]
  },
  {
   "cell_type": "markdown",
   "metadata": {},
   "source": [
    "Download and complete the worksheet below to refresh your memory on the basic principles of Python."
   ]
  },
  {
   "cell_type": "markdown",
   "metadata": {},
   "source": []
  },
  {
   "cell_type": "markdown",
   "metadata": {},
   "source": [
    "# OPERATORS\n",
    "\n",
    "Operators are symbols that control the value of operands. At an introductory level, we will learn about the **Python Arithmetic and Relational Operators**.\n",
    "\n",
    "## Boolean Logic\n",
    "\n",
    "Boolean Logic is expressed in **one of two values**, either **True or False**. Boolean is used in Python to compare and control the flow of the program. The values must always be capitalised as they are special values.When used as the argument to an arithmetic operator, the False value equates to 0 and the True value equates to a 1.\n",
    "\n",
    "## Python Arithmetic Operators\n",
    "\n",
    "In the example below, assume that variable a is 10 and variable b is 20."
   ]
  },
  {
   "cell_type": "markdown",
   "metadata": {},
   "source": []
  },
  {
   "cell_type": "markdown",
   "metadata": {},
   "source": [
    "## Python Relational Operators\n",
    "\n",
    "Relational operators compare values on either side of them and decide its relationship. They are otherwise known as ‘Comparison Operators’. For the table below, assume the variable a is 10 and variable b is 20. "
   ]
  },
  {
   "cell_type": "markdown",
   "metadata": {},
   "source": []
  },
  {
   "cell_type": "markdown",
   "metadata": {},
   "source": [
    "> Take note of the Boolean Logic used in the 'Example' columnn of the table."
   ]
  },
  {
   "cell_type": "markdown",
   "metadata": {},
   "source": [
    "## Worksheets\n",
    "\n",
    "Complete the worksheets below on Relational Operators and Boolean Logic."
   ]
  },
  {
   "cell_type": "markdown",
   "metadata": {},
   "source": []
  },
  {
   "cell_type": "markdown",
   "metadata": {},
   "source": []
  },
  {
   "cell_type": "markdown",
   "metadata": {},
   "source": [
    "# COMMON PYTHON BUGS\n",
    "\n",
    "As a beginner to Python, there are some common mistakes that may be made. Below are 5 common Python errors that beginners may make.\n",
    "\n",
    "## Typos\n",
    "When typing in your code, make sure you check the spelling of your variables and statements. If there is a spelling mistake, you may receive a notice that there is a NameError in a specific line of your code as the variable is not defined.\n",
    "\n",
    "## Indentation\n",
    "Python requires uses indentation to structure its code. If this occurs, you will receive an IndentationError when you attempt to run the code.\n",
    "\n",
    "## Capital Letters\n",
    "Python is case sensitive. For example, having Hello and hello are seen as different variables. If you try to use Hello and hello as the same variable, you will receive an error like the image below!\n",
    "\n",
    "## Colons for Compounds\n",
    "Remember to always put a : at the end of your if, else, and while statements! This is important because a colon represents the beginning of a block of code.\n",
    "\n",
    "## Parenthesis\n",
    "To execute a function and properly run it, you must add the ( ) sign.\n",
    "\n",
    "Look at the examples below and figure out what error has been made. Then try to fix the mistake and run the code."
   ]
  },
  {
   "cell_type": "code",
   "execution_count": null,
   "metadata": {},
   "outputs": [],
   "source": [
    "hot = 35 \n",
    "if ht > 30:\n",
    "    print(\"Turn on the aircon, please.\")\n",
    "    print(\"It's warm today.\")\n",
    "else:\n",
    "    print(\"I need some water.\")\n",
    "    print(\"We should go for a swim.\")"
   ]
  },
  {
   "cell_type": "code",
   "execution_count": null,
   "metadata": {},
   "outputs": [],
   "source": [
    "hot = 22 \n",
    "if Hot > 30:\n",
    "    print(\"Turn on the aircon, please.\")\n",
    "    print(\"It's warm today.\")\n",
    "else:\n",
    "    print(\"The weather is nice today.\")"
   ]
  },
  {
   "cell_type": "code",
   "execution_count": null,
   "metadata": {},
   "outputs": [],
   "source": [
    "hot = 40\n",
    "if hot > 30:\n",
    "print(\"Turn on the aircon, please.\")\n",
    "print(\"It's warm today.\")\n",
    "else:\n",
    "    print(\"The humidity levels are high.\")"
   ]
  },
  {
   "cell_type": "code",
   "execution_count": null,
   "metadata": {},
   "outputs": [],
   "source": [
    "hot = 12\n",
    "if hot > 30:\n",
    "    print(\"Turn on the aircon, please.\")\n",
    "    print(\"It's warm today.\")\n",
    "else\n",
    "    print(\"Why is it suddenly so cold?\")"
   ]
  },
  {
   "cell_type": "code",
   "execution_count": null,
   "metadata": {},
   "outputs": [],
   "source": [
    "hot = 42\n",
    "if Hot > 30:\n",
    "    print(\"Turn on the aircon, please.\")\n",
    "    print(\"It's warm today.\")\n",
    "else:\n",
    "    print\"I'm sweating a lot.\""
   ]
  },
  {
   "cell_type": "markdown",
   "metadata": {},
   "source": [
    "# REPETITION STRUCTURES\n",
    "\n",
    "A loop is a set of instructions that continues to repeat until some conditions are met."
   ]
  },
  {
   "cell_type": "markdown",
   "metadata": {},
   "source": [
    "## While Loop\n",
    "The while loop asks the computer to do a task until a condition is met. It consists of a block of code and a condition. In Boolean Logic, the code is executed when the condition is **True**. A while loop may also be exited through using a break statement."
   ]
  },
  {
   "cell_type": "code",
   "execution_count": null,
   "metadata": {},
   "outputs": [],
   "source": [
    "a = 10\n",
    "while a < 15:\n",
    "    a = a - 1\n",
    "    print(a)\n",
    "    if a == 5:\n",
    "        break"
   ]
  },
  {
   "cell_type": "markdown",
   "metadata": {},
   "source": [
    "The above code reads that, as long as the value of the variable a is larger than 15, the variable names should be printed out."
   ]
  },
  {
   "cell_type": "markdown",
   "metadata": {},
   "source": [
    "## For Loop\n",
    "The for loop is used to loop a list of values. But make sure you don’t mix this up with the while loop! The difference between the two is that a while loop continues as long as a condition is True. A for loop is used when you have a piece of code that you would like to repeat a specific number of times. Run the code below to see an example of a for loop."
   ]
  },
  {
   "cell_type": "code",
   "execution_count": null,
   "metadata": {},
   "outputs": [],
   "source": [
    "word = \"coding\"\n",
    "for letters in word:\n",
    "    print(letters)"
   ]
  },
  {
   "cell_type": "markdown",
   "metadata": {},
   "source": [
    "The for loop works in the way that states: for all the elements provided in the list, perform this command. In the example above: for all the letters in the word 'coding', print them out."
   ]
  },
  {
   "cell_type": "markdown",
   "metadata": {},
   "source": [
    "## If Statements\n",
    "The If and If Else statements can decide whether a block of code can be successfully run. The **If statement** begins with the **if** keyword, followed by a line indentation expressing the condition in Boolean, and then the statement."
   ]
  },
  {
   "cell_type": "code",
   "execution_count": null,
   "metadata": {},
   "outputs": [],
   "source": [
    "a = 35\n",
    "b = 25\n",
    "if a != b:\n",
    "    print(\"b does not equal to a.\")"
   ]
  },
  {
   "cell_type": "markdown",
   "metadata": {},
   "source": [
    "## Else Statements\n",
    "An Else statement **must** be preceded by an **If statement** and can only be run when the If statement is unsuccessful. This means the block of code following the Else statement will only be met if the If statement amounts to a 0 or is False. An example of this can be seen below."
   ]
  },
  {
   "cell_type": "code",
   "execution_count": null,
   "metadata": {},
   "outputs": [],
   "source": [
    "password = 45\n",
    "if password >= 60:\n",
    "    print(\"Your password is correct.\")\n",
    "else:\n",
    "    print(\"Your password is incorrect.\")"
   ]
  },
  {
   "cell_type": "markdown",
   "metadata": {},
   "source": [
    "## Infinite Loops\n",
    "An infinite loop is characterised by not having a set ending. Whatever is in the loop will keep going forever, unless the program is terminated. An example of an infinite loop can be seen below."
   ]
  },
  {
   "cell_type": "code",
   "execution_count": null,
   "metadata": {},
   "outputs": [],
   "source": [
    "while True:\n",
    "    print(\"infinite loop\")"
   ]
  },
  {
   "cell_type": "markdown",
   "metadata": {},
   "source": [
    "To stop an infinite loop from continuing as an output, go onto the 'Cell' option of your Jupyter Notebook, select 'All Output', and click on 'Clear'."
   ]
  },
  {
   "cell_type": "markdown",
   "metadata": {},
   "source": [
    "## Break Statements\n",
    "So how do we stop an infinite loop through code? We use a break statement."
   ]
  },
  {
   "cell_type": "code",
   "execution_count": null,
   "metadata": {},
   "outputs": [],
   "source": [
    "kilometres = 10\n",
    "fast = 'no'\n",
    "while fast == 'no':\n",
    "    print(\"Decreasing speed...\")\n",
    "    kilometres = kilometres - 1\n",
    "    print(\"Speed is now\", str(kilometres), \"kilometres\")\n",
    "    if kilometres == 3:\n",
    "        fast == 'yes'\n",
    "    if kilometres == 0:\n",
    "        print(\"Your car has now stopped.\")\n",
    "        break"
   ]
  },
  {
   "cell_type": "markdown",
   "metadata": {},
   "source": [
    "# FUNCTIONS\n",
    "\n",
    "Functions divide codes into smaller blocks, making it easier to structure, and more readable and reusable. A function must be defined before it can be used. It begins with the def keyword, followed by the function name.\n",
    "\n",
    "**How do we structure a function in Python?** The syntax is as seen below."
   ]
  },
  {
   "cell_type": "code",
   "execution_count": null,
   "metadata": {},
   "outputs": [],
   "source": [
    "def function_name(parameters):\n",
    "    \"function_docstring\"\n",
    "    function_suite\n",
    "    return[expression]"
   ]
  },
  {
   "cell_type": "code",
   "execution_count": null,
   "metadata": {},
   "outputs": [],
   "source": [
    "def greet(name):\n",
    "    print(\"Hello \" + name + \". Good afternoon!\")"
   ]
  },
  {
   "cell_type": "markdown",
   "metadata": {},
   "source": [
    "After **defining** a function, the next step to be taken is to **call a function**. What does this mean? To call a function we simply type the function name with appropriate parameters."
   ]
  },
  {
   "cell_type": "code",
   "execution_count": null,
   "metadata": {},
   "outputs": [],
   "source": [
    "greet('Natalie')"
   ]
  },
  {
   "cell_type": "markdown",
   "metadata": {},
   "source": [
    "# GLOSSARY\n",
    "\n",
    " - **Block** - A section of code that is grouped together.\n",
    " \n",
    " - **Conditional** - A statement that contains an **if or if else**. \n",
    " \n",
    " - **Data** - Small parts of information or value. Data is assigned to variables. \n",
    " \n",
    " - **def** - This is a keyword that defines a function. \n",
    " \n",
    " - **Integer** – An integer in programming refers to whole numbers without any decimal points. \n",
    "\n",
    " - **Operand** – This is a term used to describe any object capable of being controlled.\n",
    "\n",
    " - **String** - This refers to a ‘sequence of characters’. The print function takes an inserted string and prints it out.\n",
    "\n",
    " - **Syntax** – This is the spelling and grammar of programming languages. It defines the proper way to type out commands in programming languages.\n",
    "\n",
    " - **Type** - This is a function that identifies the type of data of the inserted variable. Integers and floats are the most common types of data. \n",
    "\n",
    " - **Variables** - This is a value that can change. It is defined by any word. Each time the word is mentioned, the value stored in the corresponding variable appears. A variable is assigned by using the equal sign (=)."
   ]
  },
  {
   "cell_type": "markdown",
   "metadata": {},
   "source": [
    "## REFERENCES\n",
    "\n",
    "If you would like to learn more about how to learn Python for beginners, take a look at the websites below.\n",
    "\n",
    "DSMCode 2019, *Understanding Python*, viewed 21 October 2019, <http://www.dsmcode.com/understanding-python#>.\n",
    "\n",
    "Martelli, A. 2006, *Python In A Nutshell*, 2nd edn, O’Reilly, California.\n",
    "\n",
    "Programiz 2019, *Learn Python Programming*, viewed 21 October 2019, <https://www.programiz.com/python-programming>.\n",
    "\n",
    "Python for Beginners 2019, *Basics*, viewed 21 October 2019, <https://www.pythonforbeginners.com/basics/>.\n",
    "\n",
    "Real Python 2019, *Real Python Tutorials*, viewed 21 October 2019, <https://realpython.com/>.\n",
    "\n",
    "Sweigart, A. 2012, *Invent Your Own Computer Games with Python*, 2nd edn, Albert Sweigart, viewed 21 October 2019, <http://inventwithpython.com/IYOCGwP_book1.pdf>.\n",
    "\n",
    "Teach Your Kids Code 2019, *Learn Python*, viewed 21 October 2019, <https://teachyourkidscode.com/category/learn-python/>.\n",
    "\n",
    "Tutorials Point 2019, *Python Tutorial*, viewed 21 October 2019, <https://www.tutorialspoint.com/python/index.htm>."
   ]
  }
 ],
 "metadata": {
  "kernelspec": {
   "display_name": "Python 3",
   "language": "python",
   "name": "python3"
  },
  "language_info": {
   "codemirror_mode": {
    "name": "ipython",
    "version": 3
   },
   "file_extension": ".py",
   "mimetype": "text/x-python",
   "name": "python",
   "nbconvert_exporter": "python",
   "pygments_lexer": "ipython3",
   "version": "3.7.3"
  }
 },
 "nbformat": 4,
 "nbformat_minor": 2
}
